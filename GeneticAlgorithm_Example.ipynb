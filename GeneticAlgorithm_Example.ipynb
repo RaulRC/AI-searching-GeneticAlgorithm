{
 "cells": [
  {
   "cell_type": "code",
   "execution_count": 22,
   "metadata": {},
   "outputs": [],
   "source": [
    "import numpy as np\n",
    "import matplotlib.pyplot as plt\n",
    "import random\n",
    "\n",
    "\n",
    "def fitness(eq, individual):\n",
    "    \"\"\"\n",
    "    Fitness function of the Genetic Algorithm\n",
    "    :param eq: equation to maximize\n",
    "    :param individual: set of values applied to the equation to maximize it\n",
    "    :return: dot product of each vector as number to maximize\n",
    "    \"\"\"\n",
    "    return eq.dot(individual)\n",
    "\n",
    "\n",
    "def GA(eq, population, fitness, iterations, mutate_prob=0.1, mutation_rate=1):\n",
    "    \"\"\"\n",
    "    Genetic Algorithm from Russell & Norvig\n",
    "    :param population: initial population. List of numpy vectors\n",
    "    :param fitness: function to apply\n",
    "    :param iterations: integer. Number of iterations\n",
    "    :param mutate_prob: float between 0.0 and 1.0\n",
    "    :param mutation_rate: increment/decrement of the parameter\n",
    "    :return: tuple (best individual found as numpy vector, max value found, history of bests)\n",
    "    \"\"\"\n",
    "    history = [0]\n",
    "    for i in range(iterations):\n",
    "        new_population = []\n",
    "        for p in population:\n",
    "            x, y = random_selection(population, fitness, eq)\n",
    "            child = reproduce(x, y)\n",
    "            if random.random() <= mutate_prob:\n",
    "                child = mutate(child, mutation_rate)\n",
    "            new_population.append(child)\n",
    "            best, best_value = best_of_generation(fitness, eq, population)\n",
    "            history.append(best_value)\n",
    "        population = new_population\n",
    "\n",
    "    return best, best_value, history\n",
    "\n",
    "\n",
    "def random_selection(population, fitness, eq):\n",
    "    \"\"\"\n",
    "    Selection of the best two candidates given fitness function\n",
    "    :param population: list of numpy array\n",
    "    :param fitness: function to fit\n",
    "    :param eq: params to fitness function\n",
    "    :return: tuple of two more promising individuals (numpy vectors)\n",
    "    \"\"\"\n",
    "    result = list(map(lambda x: (x, fitness(eq, x)), population))\n",
    "    result.sort(key=lambda x: x[1], reverse=True)\n",
    "    return result[0][0], result[1][0]\n",
    "\n",
    "\n",
    "def reproduce(x, y):\n",
    "    \"\"\"\n",
    "    Given two individuals, make crossover\n",
    "    :param x: numpy vector of genes\n",
    "    :param y: numpy vector of genes\n",
    "    :return: random crossover of x with y as numpy vector\n",
    "    \"\"\"\n",
    "    n = len(x)\n",
    "    pivot = random.randint(0, n - 1)\n",
    "    return np.concatenate((x[0:pivot], y[pivot:n]))\n",
    "\n",
    "\n",
    "def mutate(x, mutation_rate=1):\n",
    "    \"\"\"\n",
    "    Mutate a random gene\n",
    "    :param x: individual to mute (numpy vector)\n",
    "    :param mutation_rate: increasing/decreasing factor\n",
    "    :return: mutated x (numpy vector)\n",
    "    \"\"\"\n",
    "    mut_gene = random.randint(1, len(x) - 2)\n",
    "    x[mut_gene] += (mutation_rate if random.randint(0, 1) == 0 else -mutation_rate)\n",
    "    return x\n",
    "\n",
    "\n",
    "# Aux function\n",
    "def generate_population(items, length):\n",
    "    \"\"\"\n",
    "    Generate a random population\n",
    "    :param items: number of individuals (chromosomes) numpy vector\n",
    "    :param length: length of each individual (number of genes) numpy vector\n",
    "    :return: numpy array with\n",
    "    \"\"\"\n",
    "    return np.random.rand(items, length)\n",
    "\n",
    "def best_of_generation(fitness, eq, population):\n",
    "    \"\"\"\n",
    "    Selects the best individual of its generation\n",
    "    :param fitness: fitness function\n",
    "    :param eq: equation to maximize\n",
    "    :param population: list of individuals (numpy array)\n",
    "    :return: tuple of numpy vector best individual and best value\n",
    "    \"\"\"\n",
    "    best = fitness(eq, population[0])\n",
    "    best_value = -9999999\n",
    "    history = [0]\n",
    "    for p in population:\n",
    "        if fitness(eq, p) > best_value:\n",
    "            best = p\n",
    "            best_value = fitness(eq, p)\n",
    "            history.append(best_value)\n",
    "    return best, best_value"
   ]
  },
  {
   "cell_type": "code",
   "execution_count": 23,
   "metadata": {},
   "outputs": [
    {
     "name": "stdout",
     "output_type": "stream",
     "text": [
      "Best individual: [ 4.64904319e-01  3.21094520e+03 -2.28925832e+03  4.37064737e+03\n",
      " -1.09494591e+02 -3.43978955e+03  7.89651288e-01]\n",
      "Best value: 64203.24495334136\n"
     ]
    }
   ],
   "source": [
    "# Exampe\n",
    "eq = np.array([2.5, 3.4, -1.9, 4.9, 0, -8, 1])\n",
    "pop_limit = 10\n",
    "pop_length = 7\n",
    "iterations = 3000\n",
    "\n",
    "indiv, value, history = GA(eq, generate_population(pop_limit,pop_length),\n",
    "                           fitness, iterations, mutation_rate=10, mutate_prob=0.2)\n",
    "\n",
    "print(\"Best individual: {}\\nBest value: {}\".format(indiv, value))"
   ]
  },
  {
   "cell_type": "code",
   "execution_count": 28,
   "metadata": {},
   "outputs": [
    {
     "data": {
      "image/png": "[encoded data removed]",
      "text/plain": [
       "<Figure size 432x288 with 1 Axes>"
      ]
     },
     "metadata": {},
     "output_type": "display_data"
    }
   ],
   "source": [
    "plt.plot(history)\n",
    "plt.title(\"Evolution\")\n",
    "plt.xlabel(\"Generation\")\n",
    "plt.ylabel(\"Fitness\")\n",
    "plt.show()\n",
    "plt.savefig(\"Results.png\")"
   ]
  },
  {
   "cell_type": "code",
   "execution_count": null,
   "metadata": {},
   "outputs": [],
   "source": []
  }
 ],
 "metadata": {
  "kernelspec": {
   "display_name": "Python 3",
   "language": "python",
   "name": "python3"
  },
  "language_info": {
   "codemirror_mode": {
    "name": "ipython",
    "version": 3
   },
   "file_extension": ".py",
   "mimetype": "text/x-python",
   "name": "python",
   "nbconvert_exporter": "python",
   "pygments_lexer": "ipython3",
   "version": "3.5.2"
  }
 },
 "nbformat": 4,
 "nbformat_minor": 2
}
